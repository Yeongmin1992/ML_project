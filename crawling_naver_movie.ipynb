{
 "cells": [
  {
   "cell_type": "markdown",
   "metadata": {},
   "source": [
    "### 1. 프로젝트 생성"
   ]
  },
  {
   "cell_type": "code",
   "execution_count": 6,
   "metadata": {},
   "outputs": [
    {
     "name": "stdout",
     "output_type": "stream",
     "text": [
      "New Scrapy project 'naver_movie', using template directory 'c:\\users\\samsung\\anaconda\\lib\\site-packages\\scrapy\\templates\\project', created in:\n",
      "    C:\\Users\\samsung\\Desktop\\fastcampus\\machine_learning_pj\\naver_movie\n",
      "\n",
      "You can start your first spider with:\n",
      "    cd naver_movie\n",
      "    scrapy genspider example example.com\n"
     ]
    }
   ],
   "source": [
    "!scrapy startproject naver_movie"
   ]
  },
  {
   "cell_type": "markdown",
   "metadata": {},
   "source": [
    "### 2. xpath확인"
   ]
  },
  {
   "cell_type": "code",
   "execution_count": 1,
   "metadata": {},
   "outputs": [],
   "source": [
    "import requests\n",
    "import scrapy\n",
    "from scrapy.http import TextResponse"
   ]
  },
  {
   "cell_type": "code",
   "execution_count": 14,
   "metadata": {},
   "outputs": [
    {
     "data": {
      "text/plain": [
       "<200 https://movie.naver.com/movie/sdb/browsing/bmovie.nhn?genre=10>"
      ]
     },
     "execution_count": 14,
     "metadata": {},
     "output_type": "execute_result"
    }
   ],
   "source": [
    "genre = 10\n",
    "url = 'https://movie.naver.com/movie/sdb/browsing/bmovie.nhn?genre={}'.format(genre)\n",
    "req = requests.get(url)\n",
    "response = TextResponse(req.url, body=req.text, encoding=\"utf-8\")\n",
    "response"
   ]
  },
  {
   "cell_type": "code",
   "execution_count": 15,
   "metadata": {},
   "outputs": [
    {
     "ename": "SyntaxError",
     "evalue": "invalid syntax (<ipython-input-15-eb5365721d35>, line 1)",
     "output_type": "error",
     "traceback": [
      "\u001b[1;36m  File \u001b[1;32m\"<ipython-input-15-eb5365721d35>\"\u001b[1;36m, line \u001b[1;32m1\u001b[0m\n\u001b[1;33m    https://movie.naver.com/movie/sdb/browsing/bmovie.nhn?genre=2\u001b[0m\n\u001b[1;37m           ^\u001b[0m\n\u001b[1;31mSyntaxError\u001b[0m\u001b[1;31m:\u001b[0m invalid syntax\n"
     ]
    }
   ],
   "source": [
    "https://movie.naver.com/movie/sdb/browsing/bmovie.nhn?genre=2"
   ]
  },
  {
   "cell_type": "code",
   "execution_count": 16,
   "metadata": {},
   "outputs": [
    {
     "data": {
      "text/plain": [
       "20"
      ]
     },
     "execution_count": 16,
     "metadata": {},
     "output_type": "execute_result"
    }
   ],
   "source": [
    "links = response.xpath('//*[@id=\"old_content\"]/ul/li/a/@href').extract()\n",
    "len(links)"
   ]
  },
  {
   "cell_type": "code",
   "execution_count": 17,
   "metadata": {},
   "outputs": [
    {
     "data": {
      "text/plain": [
       "'https://movie.naver.com/movie/bi/mi/basic.nhn?code=65348'"
      ]
     },
     "execution_count": 17,
     "metadata": {},
     "output_type": "execute_result"
    }
   ],
   "source": [
    "link = response.urljoin(links[0])\n",
    "link"
   ]
  },
  {
   "cell_type": "code",
   "execution_count": 18,
   "metadata": {},
   "outputs": [],
   "source": [
    "# 상세 데이터 수집\n",
    "req = requests.get(link)\n",
    "response = TextResponse(req.url, body=req.text, encoding=\"utf-8\")"
   ]
  },
  {
   "cell_type": "code",
   "execution_count": 19,
   "metadata": {},
   "outputs": [
    {
     "data": {
      "text/plain": [
       "['0.08']"
      ]
     },
     "execution_count": 19,
     "metadata": {},
     "output_type": "execute_result"
    }
   ],
   "source": [
    "title = response.xpath('//*[@id=\"content\"]/div[1]/div[2]/div[1]/h3/a[1]/text()').extract()\n",
    "title"
   ]
  },
  {
   "cell_type": "code",
   "execution_count": 20,
   "metadata": {},
   "outputs": [
    {
     "data": {
      "text/plain": [
       "'이 다큐멘터리는 스페인에 사는 빅토르라는 열 두 살 소년의 아름다운 초상이다. 빅토르도 그 또래 남자아이들처럼 마시멜로우 먹는 것을 좋아하고 해변가에서 뛰놀며 축구 하는 것을 즐긴다. 빅토르에게 한가지 다른 점이 있다면 그의 시력이 거의 장님에 가까운 0.08%란 점이다.'"
      ]
     },
     "execution_count": 20,
     "metadata": {},
     "output_type": "execute_result"
    }
   ],
   "source": [
    "story = response.xpath('//*[@id=\"content\"]/div[1]/div[4]/div[1]/div/div/p/text()').extract()\n",
    "story = \" \".join(story).replace(\"\\r \\xa0\", \"\")\n",
    "story"
   ]
  },
  {
   "cell_type": "markdown",
   "metadata": {},
   "source": [
    "### 3. items.py 작성"
   ]
  },
  {
   "cell_type": "code",
   "execution_count": 103,
   "metadata": {},
   "outputs": [
    {
     "name": "stdout",
     "output_type": "stream",
     "text": [
      "Overwriting naver_movie/naver_movie/items.py\n"
     ]
    }
   ],
   "source": [
    "%%writefile naver_movie/naver_movie/items.py\n",
    "import scrapy\n",
    "\n",
    "\n",
    "class NaverMovieItem(scrapy.Item):\n",
    "    # define the fields for your item here like:\n",
    "    title = scrapy.Field()\n",
    "    story = scrapy.Field()"
   ]
  },
  {
   "cell_type": "markdown",
   "metadata": {},
   "source": [
    "### 4. spider 작성"
   ]
  },
  {
   "cell_type": "code",
   "execution_count": 8,
   "metadata": {},
   "outputs": [
    {
     "name": "stdout",
     "output_type": "stream",
     "text": [
      "Overwriting naver_movie/naver_movie/spiders/spiders.py\n"
     ]
    }
   ],
   "source": [
    "%%writefile naver_movie/naver_movie/spiders/spiders.py\n",
    "import scrapy\n",
    "from naver_movie.items import NaverMovieItem\n",
    "\n",
    "\n",
    "class MovieSpider(scrapy.Spider):\n",
    "    name = \"NaverMovie\"\n",
    "    allow_domain = [\"https://movie.naver.com\"]\n",
    "    start_urls = [\"https://movie.naver.com/movie/sdb/browsing/bmovie.nhn?genre=21\"]\n",
    "    \n",
    "    # 페이지별 링크 만들기\n",
    "    def parse(self, response):\n",
    "        last_page = 137\n",
    "        for page in range(last_page + 1):\n",
    "            page += 1\n",
    "            link = response.url + \"&page={}\".format(page)\n",
    "            yield scrapy.Request(link, callback=self.parse_page)\n",
    "    \n",
    "    # 각 영화별 상세페이지\n",
    "    def parse_page(self, response):\n",
    "        links = response.xpath('//*[@id=\"old_content\"]/ul/li/a/@href').extract()\n",
    "        for link in links:\n",
    "            link = response.urljoin(link)\n",
    "            yield scrapy.Request(link, callback=self.parse_page_contents)\n",
    "    \n",
    "    # 상세페이지에서 컨텐츠 가져오기 \n",
    "    def parse_page_contents(self, response):\n",
    "        item = NaverMovieItem()\n",
    "        item[\"title\"] = response.xpath('//*[@id=\"content\"]/div[1]/div[2]/div[1]/h3/a[1]/text()').extract()[0]\n",
    "        try:\n",
    "            story = response.xpath('//*[@id=\"content\"]/div[1]/div[4]/div[1]/div/div/p/text()').extract()\n",
    "            story = \" \".join(story).replace(\"\\r \\xa0\", \"\")\n",
    "            item[\"story\"] = story\n",
    "        except:\n",
    "            item[\"story\"] = None\n",
    "            \n",
    "        yield item"
   ]
  },
  {
   "cell_type": "markdown",
   "metadata": {},
   "source": [
    "### 5. Settings.py 파일 변경"
   ]
  },
  {
   "cell_type": "code",
   "execution_count": 33,
   "metadata": {},
   "outputs": [],
   "source": [
    "# robots.txt 무시하기\n",
    "!sed -i 's/ROBOTSTXT_OBEY = True/ROBOTSTXT_OBEY = False/' naver_movie/naver_movie/settings.py"
   ]
  },
  {
   "cell_type": "markdown",
   "metadata": {},
   "source": [
    "### 6. Scrapy 실행"
   ]
  },
  {
   "cell_type": "code",
   "execution_count": 9,
   "metadata": {},
   "outputs": [
    {
     "name": "stdout",
     "output_type": "stream",
     "text": [
      "Overwriting run.sh\n"
     ]
    }
   ],
   "source": [
    "%%writefile run.sh\n",
    "cd naver_movie\n",
    "scrapy crawl NaverMovie -o naver_movie_erotic.csv"
   ]
  },
  {
   "cell_type": "code",
   "execution_count": 36,
   "metadata": {},
   "outputs": [],
   "source": [
    "!chmod +x run.sh"
   ]
  },
  {
   "cell_type": "markdown",
   "metadata": {},
   "source": [
    "### 7. DataFrame으로 불러오기"
   ]
  },
  {
   "cell_type": "code",
   "execution_count": 10,
   "metadata": {},
   "outputs": [
    {
     "data": {
      "text/plain": [
       "2206"
      ]
     },
     "execution_count": 10,
     "metadata": {},
     "output_type": "execute_result"
    }
   ],
   "source": [
    "df = pd.read_csv(\"naver_movie/naver_movie_erotic.csv\")\n",
    "df = df[[\"title\", \"story\"]]\n",
    "len(df)"
   ]
  },
  {
   "cell_type": "code",
   "execution_count": 12,
   "metadata": {},
   "outputs": [],
   "source": [
    "df.to_csv(\"naver_movie/naver_movie_erotic.csv\")"
   ]
  },
  {
   "cell_type": "code",
   "execution_count": 22,
   "metadata": {},
   "outputs": [
    {
     "data": {
      "text/html": [
       "<div>\n",
       "<style scoped>\n",
       "    .dataframe tbody tr th:only-of-type {\n",
       "        vertical-align: middle;\n",
       "    }\n",
       "\n",
       "    .dataframe tbody tr th {\n",
       "        vertical-align: top;\n",
       "    }\n",
       "\n",
       "    .dataframe thead th {\n",
       "        text-align: right;\n",
       "    }\n",
       "</style>\n",
       "<table border=\"1\" class=\"dataframe\">\n",
       "  <thead>\n",
       "    <tr style=\"text-align: right;\">\n",
       "      <th></th>\n",
       "      <th>Unnamed: 0</th>\n",
       "      <th>title</th>\n",
       "      <th>story</th>\n",
       "      <th>genre</th>\n",
       "    </tr>\n",
       "  </thead>\n",
       "  <tbody>\n",
       "    <tr>\n",
       "      <td>100</td>\n",
       "      <td>100</td>\n",
       "      <td>가린차 - 밀림의 영웅</td>\n",
       "      <td>NaN</td>\n",
       "      <td>다큐멘터리</td>\n",
       "    </tr>\n",
       "    <tr>\n",
       "      <td>101</td>\n",
       "      <td>101</td>\n",
       "      <td>가리봉</td>\n",
       "      <td>서울특별시 구로구 가리봉동은 서울 속의 타지이다. 가리봉 거리를 가득 채운 중국어 ...</td>\n",
       "      <td>다큐멘터리</td>\n",
       "    </tr>\n",
       "    <tr>\n",
       "      <td>102</td>\n",
       "      <td>102</td>\n",
       "      <td>초이스 :: 강길</td>\n",
       "      <td>아직 공사 이전의 아름다운 강을 다녀온 순례길에서 만난 주민과 순례객들의 인터뷰와 ...</td>\n",
       "      <td>다큐멘터리</td>\n",
       "    </tr>\n",
       "    <tr>\n",
       "      <td>103</td>\n",
       "      <td>103</td>\n",
       "      <td>가르보</td>\n",
       "      <td>NaN</td>\n",
       "      <td>다큐멘터리</td>\n",
       "    </tr>\n",
       "    <tr>\n",
       "      <td>104</td>\n",
       "      <td>104</td>\n",
       "      <td>가무샤라</td>\n",
       "      <td>NaN</td>\n",
       "      <td>다큐멘터리</td>\n",
       "    </tr>\n",
       "    <tr>\n",
       "      <td>105</td>\n",
       "      <td>105</td>\n",
       "      <td>가루다 파워: 인도네시아 액션영화의 힘</td>\n",
       "      <td>1920-30년대 영화산업의 생성기에서 70년대 전성기, 90년대 초중반의 쇠퇴기,...</td>\n",
       "      <td>다큐멘터리</td>\n",
       "    </tr>\n",
       "    <tr>\n",
       "      <td>106</td>\n",
       "      <td>106</td>\n",
       "      <td>가로막힌 자유, 집회</td>\n",
       "      <td>노벨상을 수상한 대통령이 집권하는 나라에서 인권 후진국이라는 오명을 벗지 못하고 있...</td>\n",
       "      <td>다큐멘터리</td>\n",
       "    </tr>\n",
       "    <tr>\n",
       "      <td>107</td>\n",
       "      <td>107</td>\n",
       "      <td>가라파</td>\n",
       "      <td>UN 통계에 따르면 전체 지구 인구 중 9억 2천만 명 가량이 기아에 허덕이고 있다...</td>\n",
       "      <td>다큐멘터리</td>\n",
       "    </tr>\n",
       "    <tr>\n",
       "      <td>108</td>\n",
       "      <td>108</td>\n",
       "      <td>가라지 피플</td>\n",
       "      <td>NaN</td>\n",
       "      <td>다큐멘터리</td>\n",
       "    </tr>\n",
       "    <tr>\n",
       "      <td>109</td>\n",
       "      <td>109</td>\n",
       "      <td>가디언즈 오브 디 어스</td>\n",
       "      <td>NaN</td>\n",
       "      <td>다큐멘터리</td>\n",
       "    </tr>\n",
       "    <tr>\n",
       "      <td>110</td>\n",
       "      <td>110</td>\n",
       "      <td>가디언즈 오브 더 스트레이트</td>\n",
       "      <td>NaN</td>\n",
       "      <td>다큐멘터리</td>\n",
       "    </tr>\n",
       "    <tr>\n",
       "      <td>111</td>\n",
       "      <td>111</td>\n",
       "      <td>가디언즈 아미</td>\n",
       "      <td>NaN</td>\n",
       "      <td>다큐멘터리</td>\n",
       "    </tr>\n",
       "    <tr>\n",
       "      <td>112</td>\n",
       "      <td>112</td>\n",
       "      <td>가라유키상</td>\n",
       "      <td>메이지 시대부터 다이쇼 시대까지, 동남아시아를 중심으로 세계 각지로 파견된 일본인 ...</td>\n",
       "      <td>다큐멘터리</td>\n",
       "    </tr>\n",
       "    <tr>\n",
       "      <td>113</td>\n",
       "      <td>113</td>\n",
       "      <td>가디언즈</td>\n",
       "      <td>NaN</td>\n",
       "      <td>다큐멘터리</td>\n",
       "    </tr>\n",
       "    <tr>\n",
       "      <td>114</td>\n",
       "      <td>114</td>\n",
       "      <td>가디언즈</td>\n",
       "      <td>NaN</td>\n",
       "      <td>다큐멘터리</td>\n",
       "    </tr>\n",
       "    <tr>\n",
       "      <td>115</td>\n",
       "      <td>115</td>\n",
       "      <td>가디언스 오브 더 삼바</td>\n",
       "      <td>NaN</td>\n",
       "      <td>다큐멘터리</td>\n",
       "    </tr>\n",
       "    <tr>\n",
       "      <td>116</td>\n",
       "      <td>116</td>\n",
       "      <td>초이스 2 :: 사람의 마음을 파내다</td>\n",
       "      <td>다큐멘터리 감독과 미디어 활동가들이 카메라를 들고 한강, 낙동강, 금강, 영산강, ...</td>\n",
       "      <td>다큐멘터리</td>\n",
       "    </tr>\n",
       "    <tr>\n",
       "      <td>117</td>\n",
       "      <td>117</td>\n",
       "      <td>초이스 2 :: 농민 being</td>\n",
       "      <td>다큐멘터리 감독과 미디어 활동가들이 카메라를 들고 한강, 낙동강, 금강, 영산강, ...</td>\n",
       "      <td>다큐멘터리</td>\n",
       "    </tr>\n",
       "    <tr>\n",
       "      <td>118</td>\n",
       "      <td>118</td>\n",
       "      <td>초이스 2 :: 더블 스피크</td>\n",
       "      <td>다큐멘터리 감독과 미디어 활동가들이 카메라를 들고 한강, 낙동강, 금강, 영산강, ...</td>\n",
       "      <td>다큐멘터리</td>\n",
       "    </tr>\n",
       "    <tr>\n",
       "      <td>119</td>\n",
       "      <td>119</td>\n",
       "      <td>초이스 1 :: 허벌란 이야기</td>\n",
       "      <td>다큐멘터리 감독과 미디어 활동가들이 카메라를 들고 한강, 낙동강, 금강, 영산강, ...</td>\n",
       "      <td>다큐멘터리</td>\n",
       "    </tr>\n",
       "  </tbody>\n",
       "</table>\n",
       "</div>"
      ],
      "text/plain": [
       "     Unnamed: 0                  title  \\\n",
       "100         100           가린차 - 밀림의 영웅   \n",
       "101         101                    가리봉   \n",
       "102         102              초이스 :: 강길   \n",
       "103         103                    가르보   \n",
       "104         104                   가무샤라   \n",
       "105         105  가루다 파워: 인도네시아 액션영화의 힘   \n",
       "106         106            가로막힌 자유, 집회   \n",
       "107         107                    가라파   \n",
       "108         108                 가라지 피플   \n",
       "109         109           가디언즈 오브 디 어스   \n",
       "110         110        가디언즈 오브 더 스트레이트   \n",
       "111         111                가디언즈 아미   \n",
       "112         112                  가라유키상   \n",
       "113         113                   가디언즈   \n",
       "114         114                   가디언즈   \n",
       "115         115           가디언스 오브 더 삼바   \n",
       "116         116   초이스 2 :: 사람의 마음을 파내다   \n",
       "117         117      초이스 2 :: 농민 being   \n",
       "118         118        초이스 2 :: 더블 스피크   \n",
       "119         119       초이스 1 :: 허벌란 이야기   \n",
       "\n",
       "                                                 story  genre  \n",
       "100                                                NaN  다큐멘터리  \n",
       "101  서울특별시 구로구 가리봉동은 서울 속의 타지이다. 가리봉 거리를 가득 채운 중국어 ...  다큐멘터리  \n",
       "102  아직 공사 이전의 아름다운 강을 다녀온 순례길에서 만난 주민과 순례객들의 인터뷰와 ...  다큐멘터리  \n",
       "103                                                NaN  다큐멘터리  \n",
       "104                                                NaN  다큐멘터리  \n",
       "105  1920-30년대 영화산업의 생성기에서 70년대 전성기, 90년대 초중반의 쇠퇴기,...  다큐멘터리  \n",
       "106  노벨상을 수상한 대통령이 집권하는 나라에서 인권 후진국이라는 오명을 벗지 못하고 있...  다큐멘터리  \n",
       "107  UN 통계에 따르면 전체 지구 인구 중 9억 2천만 명 가량이 기아에 허덕이고 있다...  다큐멘터리  \n",
       "108                                                NaN  다큐멘터리  \n",
       "109                                                NaN  다큐멘터리  \n",
       "110                                                NaN  다큐멘터리  \n",
       "111                                                NaN  다큐멘터리  \n",
       "112  메이지 시대부터 다이쇼 시대까지, 동남아시아를 중심으로 세계 각지로 파견된 일본인 ...  다큐멘터리  \n",
       "113                                                NaN  다큐멘터리  \n",
       "114                                                NaN  다큐멘터리  \n",
       "115                                                NaN  다큐멘터리  \n",
       "116  다큐멘터리 감독과 미디어 활동가들이 카메라를 들고 한강, 낙동강, 금강, 영산강, ...  다큐멘터리  \n",
       "117  다큐멘터리 감독과 미디어 활동가들이 카메라를 들고 한강, 낙동강, 금강, 영산강, ...  다큐멘터리  \n",
       "118  다큐멘터리 감독과 미디어 활동가들이 카메라를 들고 한강, 낙동강, 금강, 영산강, ...  다큐멘터리  \n",
       "119  다큐멘터리 감독과 미디어 활동가들이 카메라를 들고 한강, 낙동강, 금강, 영산강, ...  다큐멘터리  "
      ]
     },
     "execution_count": 22,
     "metadata": {},
     "output_type": "execute_result"
    }
   ],
   "source": [
    "df = pd.read_csv(\"naver_movie/naver_movie_documentary.csv\")\n",
    "df[100:120]"
   ]
  },
  {
   "cell_type": "code",
   "execution_count": null,
   "metadata": {},
   "outputs": [],
   "source": []
  }
 ],
 "metadata": {
  "kernelspec": {
   "display_name": "Python 3",
   "language": "python",
   "name": "python3"
  },
  "language_info": {
   "codemirror_mode": {
    "name": "ipython",
    "version": 3
   },
   "file_extension": ".py",
   "mimetype": "text/x-python",
   "name": "python",
   "nbconvert_exporter": "python",
   "pygments_lexer": "ipython3",
   "version": "3.7.4"
  }
 },
 "nbformat": 4,
 "nbformat_minor": 2
}
