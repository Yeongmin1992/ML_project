{
 "cells": [
  {
   "cell_type": "code",
   "execution_count": 31,
   "metadata": {},
   "outputs": [],
   "source": [
    "import pandas as pd\n",
    "import numpy as np\n",
    "import pickle\n",
    "from sklearn.feature_extraction.text import TfidfVectorizer\n",
    "from sklearn.model_selection import train_test_split\n",
    "from sklearn.naive_bayes import MultinomialNB\n",
    "from sklearn.pipeline import Pipeline\n",
    "from sklearn.metrics import classification_report"
   ]
  },
  {
   "cell_type": "code",
   "execution_count": 63,
   "metadata": {},
   "outputs": [
    {
     "name": "stdout",
     "output_type": "stream",
     "text": [
      "15190\n"
     ]
    },
    {
     "data": {
      "text/html": [
       "<div>\n",
       "<style scoped>\n",
       "    .dataframe tbody tr th:only-of-type {\n",
       "        vertical-align: middle;\n",
       "    }\n",
       "\n",
       "    .dataframe tbody tr th {\n",
       "        vertical-align: top;\n",
       "    }\n",
       "\n",
       "    .dataframe thead th {\n",
       "        text-align: right;\n",
       "    }\n",
       "</style>\n",
       "<table border=\"1\" class=\"dataframe\">\n",
       "  <thead>\n",
       "    <tr style=\"text-align: right;\">\n",
       "      <th></th>\n",
       "      <th>title</th>\n",
       "      <th>story</th>\n",
       "      <th>genre</th>\n",
       "    </tr>\n",
       "  </thead>\n",
       "  <tbody>\n",
       "    <tr>\n",
       "      <td>0</td>\n",
       "      <td>검은 집</td>\n",
       "      <td>10년차 성북동 캣맘 ‘냥이랑나랑’은 길음동 재개발 지역에 들어간다.[제19회 서울...</td>\n",
       "      <td>다큐멘터리</td>\n",
       "    </tr>\n",
       "    <tr>\n",
       "      <td>1</td>\n",
       "      <td>검은 선</td>\n",
       "      <td>탁한 물에서 낚시하는 여자, 고통받는 자연, 무엣진의 부서진 기도문, 모든 것이 얇...</td>\n",
       "      <td>다큐멘터리</td>\n",
       "    </tr>\n",
       "  </tbody>\n",
       "</table>\n",
       "</div>"
      ],
      "text/plain": [
       "  title                                              story  genre\n",
       "0  검은 집  10년차 성북동 캣맘 ‘냥이랑나랑’은 길음동 재개발 지역에 들어간다.[제19회 서울...  다큐멘터리\n",
       "1  검은 선  탁한 물에서 낚시하는 여자, 고통받는 자연, 무엣진의 부서진 기도문, 모든 것이 얇...  다큐멘터리"
      ]
     },
     "execution_count": 63,
     "metadata": {},
     "output_type": "execute_result"
    }
   ],
   "source": [
    "movie_df = pd.read_csv(\"naver_movie/naver_movie_2170.csv\")\n",
    "print(len(movie_df))\n",
    "movie_df.head(2)"
   ]
  },
  {
   "cell_type": "code",
   "execution_count": 33,
   "metadata": {},
   "outputs": [
    {
     "data": {
      "text/plain": [
       "(13671, 1519, 13671, 1519)"
      ]
     },
     "execution_count": 33,
     "metadata": {},
     "output_type": "execute_result"
    }
   ],
   "source": [
    "X_train, X_test, y_train, y_test = train_test_split(movie_df.story, movie_df.genre, test_size=0.1, random_state=1)\n",
    "len(X_train), len(X_test), len(y_train), len(y_test)"
   ]
  },
  {
   "cell_type": "code",
   "execution_count": 61,
   "metadata": {},
   "outputs": [
    {
     "data": {
      "text/plain": [
       "genre\n",
       "공포       2170\n",
       "다큐멘터리    2170\n",
       "드라마      2170\n",
       "애니메이션    2170\n",
       "액션       2170\n",
       "에로       2170\n",
       "코미디      2170\n",
       "dtype: int64"
      ]
     },
     "execution_count": 61,
     "metadata": {},
     "output_type": "execute_result"
    }
   ],
   "source": [
    "movie_df.groupby(\"genre\").size()"
   ]
  },
  {
   "cell_type": "code",
   "execution_count": 90,
   "metadata": {},
   "outputs": [],
   "source": [
    "naver_movie_df.to_csv(\"naver_movie/naver_movie_code.csv\", index=False)"
   ]
  },
  {
   "cell_type": "code",
   "execution_count": 91,
   "metadata": {},
   "outputs": [
    {
     "name": "stdout",
     "output_type": "stream",
     "text": [
      "15190\n"
     ]
    },
    {
     "data": {
      "text/html": [
       "<div>\n",
       "<style scoped>\n",
       "    .dataframe tbody tr th:only-of-type {\n",
       "        vertical-align: middle;\n",
       "    }\n",
       "\n",
       "    .dataframe tbody tr th {\n",
       "        vertical-align: top;\n",
       "    }\n",
       "\n",
       "    .dataframe thead th {\n",
       "        text-align: right;\n",
       "    }\n",
       "</style>\n",
       "<table border=\"1\" class=\"dataframe\">\n",
       "  <thead>\n",
       "    <tr style=\"text-align: right;\">\n",
       "      <th></th>\n",
       "      <th>title</th>\n",
       "      <th>story</th>\n",
       "      <th>code</th>\n",
       "    </tr>\n",
       "  </thead>\n",
       "  <tbody>\n",
       "    <tr>\n",
       "      <td>0</td>\n",
       "      <td>더 퍼지: 최초의 시작</td>\n",
       "      <td>한 부부가 오랜 고향 로스앤젤레스를 떠나 아픈 기억을 뒤로 한 채 새로운 삶을 살기...</td>\n",
       "      <td>1</td>\n",
       "    </tr>\n",
       "    <tr>\n",
       "      <td>1</td>\n",
       "      <td>더 퍼지:거리의 반란</td>\n",
       "      <td>1년 전, 단 하나뿐인 아들을 잃은 뒤 복수를 위해 나선 한 남자갑작스런 차 고장으...</td>\n",
       "      <td>1</td>\n",
       "    </tr>\n",
       "  </tbody>\n",
       "</table>\n",
       "</div>"
      ],
      "text/plain": [
       "          title                                              story  code\n",
       "0  더 퍼지: 최초의 시작  한 부부가 오랜 고향 로스앤젤레스를 떠나 아픈 기억을 뒤로 한 채 새로운 삶을 살기...     1\n",
       "1   더 퍼지:거리의 반란  1년 전, 단 하나뿐인 아들을 잃은 뒤 복수를 위해 나선 한 남자갑작스런 차 고장으...     1"
      ]
     },
     "execution_count": 91,
     "metadata": {},
     "output_type": "execute_result"
    }
   ],
   "source": [
    "movie_df = pd.read_csv(\"naver_movie/naver_movie_code.csv\")\n",
    "print(len(movie_df))\n",
    "movie_df.head(2)"
   ]
  },
  {
   "cell_type": "code",
   "execution_count": 93,
   "metadata": {},
   "outputs": [
    {
     "data": {
      "text/plain": [
       "(13671, 1519, 13671, 1519)"
      ]
     },
     "execution_count": 93,
     "metadata": {},
     "output_type": "execute_result"
    }
   ],
   "source": [
    "X_train, X_test, y_train, y_test = train_test_split(movie_df.story, movie_df.code, test_size=0.1, random_state=1)\n",
    "len(X_train), len(X_test), len(y_train), len(y_test)"
   ]
  },
  {
   "cell_type": "code",
   "execution_count": 94,
   "metadata": {},
   "outputs": [],
   "source": [
    "clf = Pipeline([\n",
    "    ('vect', TfidfVectorizer()), \n",
    "    ('clf', MultinomialNB(alpha=0.01)),\n",
    "])"
   ]
  },
  {
   "cell_type": "code",
   "execution_count": 95,
   "metadata": {},
   "outputs": [
    {
     "name": "stdout",
     "output_type": "stream",
     "text": [
      "Wall time: 5.6 s\n"
     ]
    }
   ],
   "source": [
    "%%time\n",
    "model = clf.fit(X_train.values.astype(\"str\"), y_train)"
   ]
  },
  {
   "cell_type": "code",
   "execution_count": 96,
   "metadata": {},
   "outputs": [],
   "source": [
    "y_pred = model.predict(X_test)"
   ]
  },
  {
   "cell_type": "code",
   "execution_count": 97,
   "metadata": {},
   "outputs": [
    {
     "name": "stdout",
     "output_type": "stream",
     "text": [
      "              precision    recall  f1-score   support\n",
      "\n",
      "           1       0.63      0.78      0.70       220\n",
      "           2       0.79      0.80      0.80       220\n",
      "           3       0.49      0.46      0.48       228\n",
      "           4       0.74      0.58      0.65       192\n",
      "           5       0.68      0.73      0.70       229\n",
      "           6       0.91      0.91      0.91       201\n",
      "           7       0.56      0.52      0.54       229\n",
      "\n",
      "    accuracy                           0.68      1519\n",
      "   macro avg       0.69      0.68      0.68      1519\n",
      "weighted avg       0.68      0.68      0.68      1519\n",
      "\n"
     ]
    }
   ],
   "source": [
    "print(classification_report(y_test, y_pred))"
   ]
  },
  {
   "cell_type": "code",
   "execution_count": 101,
   "metadata": {},
   "outputs": [],
   "source": [
    "classification_dict = {\n",
    "    1:\"공포\",\n",
    "    2:\"다큐멘터리\",\n",
    "    3:\"드라마\",\n",
    "    4:\"애니메이션\",\n",
    "    5:\"액션\",\n",
    "    6:\"에로\",\n",
    "    7:\"코미디\"\n",
    "}"
   ]
  },
  {
   "cell_type": "code",
   "execution_count": 112,
   "metadata": {},
   "outputs": [
    {
     "data": {
      "text/html": [
       "<div>\n",
       "<style scoped>\n",
       "    .dataframe tbody tr th:only-of-type {\n",
       "        vertical-align: middle;\n",
       "    }\n",
       "\n",
       "    .dataframe tbody tr th {\n",
       "        vertical-align: top;\n",
       "    }\n",
       "\n",
       "    .dataframe thead th {\n",
       "        text-align: right;\n",
       "    }\n",
       "</style>\n",
       "<table border=\"1\" class=\"dataframe\">\n",
       "  <thead>\n",
       "    <tr style=\"text-align: right;\">\n",
       "      <th></th>\n",
       "      <th>story</th>\n",
       "      <th>code</th>\n",
       "      <th>genre</th>\n",
       "      <th>proba</th>\n",
       "    </tr>\n",
       "  </thead>\n",
       "  <tbody>\n",
       "    <tr>\n",
       "      <td>0</td>\n",
       "      <td>한 여름 한적한 시골길에서 벌어진 살인, 사건은 점점 미궁속으로 빠져드는데</td>\n",
       "      <td>3</td>\n",
       "      <td>드라마</td>\n",
       "      <td>0.46</td>\n",
       "    </tr>\n",
       "    <tr>\n",
       "      <td>1</td>\n",
       "      <td>웃겨죽겠네 아주. 좀 잘 좀 맞춰봐라. 재밌는거 없나?</td>\n",
       "      <td>7</td>\n",
       "      <td>코미디</td>\n",
       "      <td>0.44</td>\n",
       "    </tr>\n",
       "    <tr>\n",
       "      <td>2</td>\n",
       "      <td>소년은 새로운 세계로 모험을 나선다</td>\n",
       "      <td>4</td>\n",
       "      <td>애니메이션</td>\n",
       "      <td>0.79</td>\n",
       "    </tr>\n",
       "  </tbody>\n",
       "</table>\n",
       "</div>"
      ],
      "text/plain": [
       "                                       story  code  genre  proba\n",
       "0  한 여름 한적한 시골길에서 벌어진 살인, 사건은 점점 미궁속으로 빠져드는데     3    드라마   0.46\n",
       "1             웃겨죽겠네 아주. 좀 잘 좀 맞춰봐라. 재밌는거 없나?     7    코미디   0.44\n",
       "2                        소년은 새로운 세계로 모험을 나선다     4  애니메이션   0.79"
      ]
     },
     "execution_count": 112,
     "metadata": {},
     "output_type": "execute_result"
    }
   ],
   "source": [
    "stories = [\n",
    "    \"한 여름 한적한 시골길에서 벌어진 살인, 사건은 점점 미궁속으로 빠져드는데\",\n",
    "    \"웃겨죽겠네 아주. 좀 잘 좀 맞춰봐라. 재밌는거 없나?\",\n",
    "    \"소년은 새로운 세계로 모험을 나선다\",\n",
    "]\n",
    "\n",
    "datas = {\n",
    "    \"story\": stories,\n",
    "    \"code\": model.predict(stories)\n",
    "}\n",
    "\n",
    "df = pd.DataFrame(datas)\n",
    "df[\"genre\"] = df[\"code\"].apply(lambda data: classification_dict[data])\n",
    "df[\"proba\"] = df[\"story\"].apply(lambda data: round(max(model.predict_proba([data])[0]), 2))\n",
    "df"
   ]
  },
  {
   "cell_type": "code",
   "execution_count": 114,
   "metadata": {},
   "outputs": [],
   "source": [
    "with open(\"naver_movie/genre.pkl\", \"wb\") as f:\n",
    "    pickle.dump(model, f)"
   ]
  },
  {
   "cell_type": "code",
   "execution_count": 116,
   "metadata": {},
   "outputs": [],
   "source": [
    "with open(\"naver_movie/genre.pkl\", \"rb\") as f:\n",
    "    load_model = pickle.load(f)"
   ]
  },
  {
   "cell_type": "code",
   "execution_count": null,
   "metadata": {},
   "outputs": [],
   "source": []
  },
  {
   "cell_type": "code",
   "execution_count": null,
   "metadata": {},
   "outputs": [],
   "source": []
  },
  {
   "cell_type": "code",
   "execution_count": null,
   "metadata": {},
   "outputs": [],
   "source": []
  },
  {
   "cell_type": "code",
   "execution_count": 99,
   "metadata": {},
   "outputs": [
    {
     "data": {
      "text/plain": [
       "array([[0.20567528, 0.01361689, 0.45539929, 0.04875674, 0.20085368,\n",
       "        0.05967444, 0.01602367]])"
      ]
     },
     "execution_count": 99,
     "metadata": {},
     "output_type": "execute_result"
    }
   ],
   "source": [
    "model.predict_proba([\"한 여름 한적한 시골길에서 벌어진 살인, 사건은 점점 미궁속으로 빠져드는데\"])"
   ]
  },
  {
   "cell_type": "code",
   "execution_count": 100,
   "metadata": {},
   "outputs": [
    {
     "data": {
      "text/plain": [
       "array([0.20567528, 0.01361689, 0.45539929, 0.04875674, 0.20085368,\n",
       "       0.05967444, 0.01602367])"
      ]
     },
     "execution_count": 100,
     "metadata": {},
     "output_type": "execute_result"
    }
   ],
   "source": [
    "max(model.predict_proba([\"한 여름 한적한 시골길에서 벌어진 살인, 사건은 점점 미궁속으로 빠져드는데\"]))"
   ]
  },
  {
   "cell_type": "code",
   "execution_count": 41,
   "metadata": {},
   "outputs": [
    {
     "data": {
      "text/plain": [
       "0.43614777053318743"
      ]
     },
     "execution_count": 41,
     "metadata": {},
     "output_type": "execute_result"
    }
   ],
   "source": [
    "max(model.predict_proba([\"한 여름 한적한 시골길에서 벌어진 살인, 사건은 점점 미궁속으로 빠져드는데\"])[0])"
   ]
  },
  {
   "cell_type": "code",
   "execution_count": 42,
   "metadata": {},
   "outputs": [],
   "source": [
    "import pickle"
   ]
  },
  {
   "cell_type": "code",
   "execution_count": 43,
   "metadata": {},
   "outputs": [],
   "source": [
    "with open(\"naver_movie/genre.pkl\", \"wb\") as f:\n",
    "    pickle.dump(model, f)"
   ]
  },
  {
   "cell_type": "code",
   "execution_count": 49,
   "metadata": {},
   "outputs": [],
   "source": [
    "with open(\"naver_movie/genre.pkl\", \"rb\") as f:\n",
    "    load_model = pickle.load(f)"
   ]
  },
  {
   "cell_type": "code",
   "execution_count": 117,
   "metadata": {},
   "outputs": [
    {
     "data": {
      "text/plain": [
       "array([0.20567528, 0.01361689, 0.45539929, 0.04875674, 0.20085368,\n",
       "       0.05967444, 0.01602367])"
      ]
     },
     "execution_count": 117,
     "metadata": {},
     "output_type": "execute_result"
    }
   ],
   "source": [
    "load_model.predict_proba([\"한 여름 한적한 시골길에서 벌어진 살인, 사건은 점점 미궁속으로 빠져드는데\"])[0]"
   ]
  },
  {
   "cell_type": "code",
   "execution_count": 118,
   "metadata": {},
   "outputs": [
    {
     "data": {
      "text/plain": [
       "3"
      ]
     },
     "execution_count": 118,
     "metadata": {},
     "output_type": "execute_result"
    }
   ],
   "source": [
    "load_model.predict([\"한 여름 한적한 시골길에서 벌어진 살인, 사건은 점점 미궁속으로 빠져드는데\"])[0]"
   ]
  },
  {
   "cell_type": "code",
   "execution_count": 119,
   "metadata": {},
   "outputs": [],
   "source": [
    "result = {}"
   ]
  },
  {
   "cell_type": "code",
   "execution_count": 122,
   "metadata": {},
   "outputs": [],
   "source": [
    "result[\"genre\"] = classification_dict[load_model.predict([\"한 여름 한적한 시골길에서 벌어진 살인, 사건은 점점 미궁속으로 빠져드는데\"])[0]]"
   ]
  },
  {
   "cell_type": "code",
   "execution_count": 123,
   "metadata": {},
   "outputs": [
    {
     "data": {
      "text/plain": [
       "{'genre': '드라마'}"
      ]
     },
     "execution_count": 123,
     "metadata": {},
     "output_type": "execute_result"
    }
   ],
   "source": [
    "result"
   ]
  },
  {
   "cell_type": "code",
   "execution_count": null,
   "metadata": {},
   "outputs": [],
   "source": []
  }
 ],
 "metadata": {
  "kernelspec": {
   "display_name": "Python 3",
   "language": "python",
   "name": "python3"
  },
  "language_info": {
   "codemirror_mode": {
    "name": "ipython",
    "version": 3
   },
   "file_extension": ".py",
   "mimetype": "text/x-python",
   "name": "python",
   "nbconvert_exporter": "python",
   "pygments_lexer": "ipython3",
   "version": "3.7.4"
  }
 },
 "nbformat": 4,
 "nbformat_minor": 2
}
