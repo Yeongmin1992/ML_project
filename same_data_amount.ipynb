{
 "cells": [
  {
   "cell_type": "code",
   "execution_count": 77,
   "metadata": {},
   "outputs": [],
   "source": [
    "nv_df = pd.read_csv(\"naver_movie/naver_movie_same.csv\")"
   ]
  },
  {
   "cell_type": "code",
   "execution_count": 81,
   "metadata": {},
   "outputs": [
    {
     "data": {
      "text/plain": [
       "title    0\n",
       "story    0\n",
       "genre    0\n",
       "dtype: int64"
      ]
     },
     "execution_count": 81,
     "metadata": {},
     "output_type": "execute_result"
    }
   ],
   "source": [
    "nv_df.isnull().sum()"
   ]
  },
  {
   "cell_type": "code",
   "execution_count": 80,
   "metadata": {},
   "outputs": [
    {
     "data": {
      "text/plain": [
       "genre\n",
       "공포       2352\n",
       "코미디      2200\n",
       "액션       2200\n",
       "애니메이션    2200\n",
       "드라마      2200\n",
       "다큐멘터리    2200\n",
       "에로       2170\n",
       "dtype: int64"
      ]
     },
     "execution_count": 80,
     "metadata": {},
     "output_type": "execute_result"
    }
   ],
   "source": [
    "# 장르별 데이터 수\n",
    "nv_df.groupby(\"genre\").size().sort_values(ascending = False)"
   ]
  },
  {
   "cell_type": "code",
   "execution_count": 82,
   "metadata": {},
   "outputs": [],
   "source": [
    "import pickle\n",
    "from sklearn.feature_extraction.text import TfidfVectorizer\n",
    "from sklearn.naive_bayes import MultinomialNB\n",
    "from sklearn.pipeline import Pipeline\n",
    "from sklearn.metrics import classification_report\n",
    "\n",
    "\n",
    "from sklearn.model_selection import train_test_split     ## train, test 데이터 분할\n",
    "from sklearn.linear_model import LinearRegression        ## 선형 회귀분석\n",
    "from sklearn.linear_model import LogisticRegression      ## 로지스틱 회귀분석\n",
    "from sklearn.naive_bayes import GaussianNB               ## 나이브 베이즈\n",
    "from sklearn import svm                                  ## 서포트 벡터 머신\n",
    "from sklearn import tree                                 ## 의사결정나무\n",
    "from sklearn.ensemble import RandomForestClassifier      ## 랜덤포레스트\n",
    "\n",
    "import matplotlib.pyplot as plt "
   ]
  },
  {
   "cell_type": "code",
   "execution_count": 83,
   "metadata": {},
   "outputs": [
    {
     "data": {
      "text/plain": [
       "(13969, 1553, 13969, 1553)"
      ]
     },
     "execution_count": 83,
     "metadata": {},
     "output_type": "execute_result"
    }
   ],
   "source": [
    "# 데이터 전처리 : 데이터 셋 분리\n",
    "X_train, X_test, y_train, y_test = train_test_split(\n",
    "    nv_df.story, nv_df.genre, test_size=0.1, random_state=1)\n",
    "len(X_train), len(X_test), len(y_train), len(y_test)"
   ]
  },
  {
   "cell_type": "code",
   "execution_count": 94,
   "metadata": {},
   "outputs": [],
   "source": [
    "# 모델만들기\n",
    "clf = Pipeline([\n",
    "    ('vect', TfidfVectorizer()),\n",
    "    ('clf', MultinomialNB(alpha=0.1)),\n",
    "])"
   ]
  },
  {
   "cell_type": "code",
   "execution_count": 95,
   "metadata": {},
   "outputs": [],
   "source": [
    "# 학습\n",
    "model = clf.fit(X_train.values.astype(\"str\"), y_train)"
   ]
  },
  {
   "cell_type": "code",
   "execution_count": 96,
   "metadata": {},
   "outputs": [],
   "source": [
    "# 모델 성능 확인\n",
    "y_pred = model.predict(X_test)"
   ]
  },
  {
   "cell_type": "code",
   "execution_count": 97,
   "metadata": {},
   "outputs": [
    {
     "data": {
      "text/plain": [
       "(['액션', '드라마', '코미디', '공포', '액션'], ['액션', '다큐멘터리', '코미디', '공포', '액션'])"
      ]
     },
     "execution_count": 97,
     "metadata": {},
     "output_type": "execute_result"
    }
   ],
   "source": [
    "list(y_test[:5]), list(y_pred[:5])"
   ]
  },
  {
   "cell_type": "code",
   "execution_count": 98,
   "metadata": {},
   "outputs": [
    {
     "name": "stdout",
     "output_type": "stream",
     "text": [
      "              precision    recall  f1-score   support\n",
      "\n",
      "          공포       0.63      0.84      0.72       234\n",
      "       다큐멘터리       0.77      0.80      0.78       202\n",
      "         드라마       0.56      0.42      0.48       211\n",
      "       애니메이션       0.84      0.66      0.74       221\n",
      "          액션       0.74      0.78      0.76       230\n",
      "          에로       0.89      0.87      0.88       241\n",
      "         코미디       0.55      0.57      0.56       214\n",
      "\n",
      "    accuracy                           0.71      1553\n",
      "   macro avg       0.71      0.71      0.70      1553\n",
      "weighted avg       0.71      0.71      0.71      1553\n",
      "\n"
     ]
    }
   ],
   "source": [
    "print(classification_report(y_test, y_pred))"
   ]
  },
  {
   "cell_type": "code",
   "execution_count": 89,
   "metadata": {},
   "outputs": [],
   "source": [
    "clf = Pipeline([\n",
    "    ('vect', TfidfVectorizer()),\n",
    "    ('clf', RandomForestClassifier(max_depth=20, n_estimators=100, random_state=0)),\n",
    "])"
   ]
  },
  {
   "cell_type": "code",
   "execution_count": 90,
   "metadata": {},
   "outputs": [],
   "source": [
    "model = clf.fit(X_train.values.astype(\"str\"), y_train)"
   ]
  },
  {
   "cell_type": "code",
   "execution_count": 91,
   "metadata": {},
   "outputs": [],
   "source": [
    "# 모델 성능 확인\n",
    "y_pred = model.predict(X_test)"
   ]
  },
  {
   "cell_type": "code",
   "execution_count": 92,
   "metadata": {},
   "outputs": [
    {
     "data": {
      "text/plain": [
       "(['액션', '드라마', '코미디', '공포', '액션'], ['액션', '다큐멘터리', '코미디', '공포', '코미디'])"
      ]
     },
     "execution_count": 92,
     "metadata": {},
     "output_type": "execute_result"
    }
   ],
   "source": [
    "list(y_test[:5]), list(y_pred[:5])"
   ]
  },
  {
   "cell_type": "code",
   "execution_count": 93,
   "metadata": {},
   "outputs": [
    {
     "name": "stdout",
     "output_type": "stream",
     "text": [
      "              precision    recall  f1-score   support\n",
      "\n",
      "          공포       0.50      0.68      0.58       234\n",
      "       다큐멘터리       0.54      0.85      0.66       202\n",
      "         드라마       0.45      0.18      0.26       211\n",
      "       애니메이션       0.53      0.58      0.56       221\n",
      "          액션       0.66      0.57      0.61       230\n",
      "          에로       0.62      0.82      0.71       241\n",
      "         코미디       0.50      0.19      0.27       214\n",
      "\n",
      "    accuracy                           0.56      1553\n",
      "   macro avg       0.55      0.55      0.52      1553\n",
      "weighted avg       0.55      0.56      0.53      1553\n",
      "\n"
     ]
    }
   ],
   "source": [
    "print(classification_report(y_test, y_pred))"
   ]
  },
  {
   "cell_type": "code",
   "execution_count": null,
   "metadata": {},
   "outputs": [],
   "source": []
  }
 ],
 "metadata": {
  "kernelspec": {
   "display_name": "Python 3",
   "language": "python",
   "name": "python3"
  },
  "language_info": {
   "codemirror_mode": {
    "name": "ipython",
    "version": 3
   },
   "file_extension": ".py",
   "mimetype": "text/x-python",
   "name": "python",
   "nbconvert_exporter": "python",
   "pygments_lexer": "ipython3",
   "version": "3.7.4"
  }
 },
 "nbformat": 4,
 "nbformat_minor": 2
}
